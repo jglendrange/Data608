{
 "cells": [
  {
   "cell_type": "markdown",
   "metadata": {},
   "source": [
    "## Data 608 Final Project Proposal"
   ]
  },
  {
   "cell_type": "markdown",
   "metadata": {},
   "source": [
    "#### Data Source\n",
    "\n",
    "The data set I've chosen to use is education data in the United states. Education is something I'm passionate about and I want to do my own investigation into what influences grades and test scores.\n",
    "\n",
    "There are 3 different sources linked below\n",
    "\n",
    "Enrollment\n",
    "https://nces.ed.gov/ccd/stnfis.asp\n",
    "Financials\n",
    "https://www.census.gov/programs-surveys/school-finances/data/tables.html\n",
    "Academic Achievement\n",
    "https://www.nationsreportcard.gov/ndecore/xplore/NDE\n",
    "\n",
    "An author on kaggle brought the 3 sources together to make on centralized data source here: https://www.kaggle.com/datasets/noriuk/us-education-datasets-unification-project\n",
    "\n",
    "### Purpose\n",
    "\n",
    "The main purpose of this analysis will be understanding what drives performance in the education system. This is extremely important, becuase as a voter in the United States I need to understand how I can influence and change out system for the better. I have preconceived ideas about what would make the education system better, and I want to test them using this data set."
   ]
  }
 ],
 "metadata": {
  "kernelspec": {
   "display_name": "Python 3",
   "language": "python",
   "name": "python3"
  },
  "language_info": {
   "codemirror_mode": {
    "name": "ipython",
    "version": 3
   },
   "file_extension": ".py",
   "mimetype": "text/x-python",
   "name": "python",
   "nbconvert_exporter": "python",
   "pygments_lexer": "ipython3",
   "version": "3.7.5"
  }
 },
 "nbformat": 4,
 "nbformat_minor": 2
}
