{
 "cells": [
  {
   "cell_type": "code",
   "execution_count": 1,
   "metadata": {},
   "outputs": [],
   "source": [
    "import pandas as pd\n",
    "import plotly.express as px\n",
    "\n",
    "import dash\n",
    "from dash import dcc \n",
    "from dash import html\n",
    "from dash.dependencies import Input, Output"
   ]
  },
  {
   "cell_type": "code",
   "execution_count": 47,
   "metadata": {},
   "outputs": [],
   "source": [
    "df = pd.read_csv('2015_Street_Tree_Census_-_Tree_Data.csv')\n",
    "df = df.dropna()"
   ]
  },
  {
   "cell_type": "code",
   "execution_count": 51,
   "metadata": {},
   "outputs": [],
   "source": [
    "app = dash.Dash()"
   ]
  },
  {
   "cell_type": "code",
   "execution_count": 53,
   "metadata": {},
   "outputs": [],
   "source": [
    "app.layout = html.Div([\n",
    "        html.H1(\"Data 608 Homework 4\", style={'text-align':'center'}),\n",
    "    \n",
    "        dcc.Dropdown(id=\"tree_sp\",\n",
    "                 options=df['spc_common'].unique(),\n",
    "                 multi=False,\n",
    "                 value= 'red maple',\n",
    "                 style={'width': \"50%\"}\n",
    "                 ),\n",
    "        dcc.Dropdown(id=\"borough\",\n",
    "                 options=df['borough'].unique(),\n",
    "                 multi=False,\n",
    "                 value= 'Queens',\n",
    "                 style={'width': \"50%\"}\n",
    "                 ),\n",
    "    html.Br(),\n",
    "    html.P('Question 1'),\n",
    "    dcc.Graph(id='tree_health', figure={}),\n",
    "    \n",
    "    html.P('Question 2'),\n",
    "    dcc.Graph(id='steward_health', figure={})\n",
    "])"
   ]
  },
  {
   "cell_type": "code",
   "execution_count": 54,
   "metadata": {},
   "outputs": [],
   "source": [
    "@app.callback(\n",
    "    [Output(component_id='tree_health',component_property='figure'),\n",
    "     Output(component_id='steward_health',component_property='figure')],\n",
    "    [Input(component_id='tree_sp',component_property='value'),\n",
    "     Input(component_id='borough',component_property='value')]\n",
    ")\n",
    "def update_graph(tree_sp, borough):\n",
    "\n",
    "    dff = df.copy()\n",
    "    dff = dff[(dff[\"spc_common\"] == tree_sp) & (dff[\"borough\"] == borough)]\n",
    "\n",
    "    # Plotly Express\n",
    "    fig = px.histogram(\n",
    "        dff, \n",
    "        x=\"health\",\n",
    "        title='Tree Health Distribution',\n",
    "        labels={'health':'Health'},\n",
    "        opacity=0.8\n",
    "    )\n",
    "    \n",
    "    fig2 = px.histogram(\n",
    "        dff, \n",
    "        x=\"steward\",\n",
    "        color=\"health\",\n",
    "        log_y=True,\n",
    "        title='Tree Health Distribution',\n",
    "        opacity=0.8\n",
    "    )\n",
    "    return fig, fig2"
   ]
  },
  {
   "cell_type": "code",
   "execution_count": 55,
   "metadata": {},
   "outputs": [
    {
     "name": "stdout",
     "output_type": "stream",
     "text": [
      "Dash is running on http://127.0.0.1:8050/\n",
      "\n",
      "Dash is running on http://127.0.0.1:8050/\n",
      "\n",
      "Dash is running on http://127.0.0.1:8050/\n",
      "\n",
      "Dash is running on http://127.0.0.1:8050/\n",
      "\n",
      "Dash is running on http://127.0.0.1:8050/\n",
      "\n",
      "Dash is running on http://127.0.0.1:8050/\n",
      "\n",
      "Dash is running on http://127.0.0.1:8050/\n",
      "\n",
      " * Serving Flask app '__main__' (lazy loading)\n",
      " * Environment: production\n",
      "\u001b[31m   WARNING: This is a development server. Do not use it in a production deployment.\u001b[0m\n",
      "\u001b[2m   Use a production WSGI server instead.\u001b[0m\n",
      " * Debug mode: on\n"
     ]
    }
   ],
   "source": [
    "if __name__ == '__main__':\n",
    "    app.run_server(debug=True, use_reloader=False)"
   ]
  }
 ],
 "metadata": {
  "kernelspec": {
   "display_name": "Python 3",
   "language": "python",
   "name": "python3"
  },
  "language_info": {
   "codemirror_mode": {
    "name": "ipython",
    "version": 3
   },
   "file_extension": ".py",
   "mimetype": "text/x-python",
   "name": "python",
   "nbconvert_exporter": "python",
   "pygments_lexer": "ipython3",
   "version": "3.7.5"
  }
 },
 "nbformat": 4,
 "nbformat_minor": 2
}
