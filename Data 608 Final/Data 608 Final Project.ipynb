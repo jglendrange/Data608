{
 "cells": [
  {
   "cell_type": "code",
   "execution_count": 42,
   "metadata": {},
   "outputs": [],
   "source": [
    "import pandas as pd\n",
    "import plotly.express as px\n",
    "import numpy as np\n",
    "import dash\n",
    "from dash import dcc \n",
    "from dash import html\n",
    "from dash.dependencies import Input, Output\n",
    "import dash_bootstrap_components as dbc\n",
    "from matplotlib import pyplot as plt\n",
    "import seaborn as sns\n",
    "import plotly.figure_factory as ff"
   ]
  },
  {
   "cell_type": "markdown",
   "metadata": {},
   "source": [
    "## Data Ingestion and Prep"
   ]
  },
  {
   "cell_type": "code",
   "execution_count": 43,
   "metadata": {},
   "outputs": [],
   "source": [
    "df = pd.read_csv('states_all.csv')"
   ]
  },
  {
   "cell_type": "code",
   "execution_count": 44,
   "metadata": {},
   "outputs": [],
   "source": [
    "df = df[(df['YEAR'] >= 1992) & (df['YEAR'] <= 2016)]"
   ]
  },
  {
   "cell_type": "code",
   "execution_count": 45,
   "metadata": {},
   "outputs": [],
   "source": [
    "df['AVG_TOTAL_REVENUE_STUDENT'] = df['TOTAL_REVENUE'] / df['ENROLL']\n",
    "df['AVG_STATE_REVENUE_STUDENT'] = df['STATE_REVENUE'] / df['ENROLL']\n",
    "df['AVG_LOCAL_REVENUE_STUDENT'] = df['LOCAL_REVENUE'] / df['ENROLL']\n",
    "df['AVG_FEDERAL_REVENUE_STUDENT'] = df['FEDERAL_REVENUE'] / df['ENROLL']\n",
    "df['AVG_EXPENDITURE_STUDENT'] = df['TOTAL_EXPENDITURE'] / df['ENROLL']"
   ]
  },
  {
   "cell_type": "markdown",
   "metadata": {},
   "source": [
    "## Dash Layout"
   ]
  },
  {
   "cell_type": "code",
   "execution_count": 46,
   "metadata": {},
   "outputs": [],
   "source": [
    "app = dash.Dash()"
   ]
  },
  {
   "cell_type": "code",
   "execution_count": 47,
   "metadata": {},
   "outputs": [],
   "source": [
    "app.layout = html.Div([\n",
    "    html.H1(\"Data 608 Final Project\", style={'text-align':'center'}),\n",
    "    html.H3(\"State Comparision Scatter Plot\"),\n",
    "    html.P('Each point on the Scatter plot represents a state. You can configure which x and y axis youd like to compare. Hovering over a point will filter the two timeseries plots on the right'),\n",
    "    html.Div([\n",
    "        html.Div([\n",
    "            html.P('X-axis'),\n",
    "            dcc.Dropdown(\n",
    "                id=\"xaxis\",\n",
    "                options=df.select_dtypes(include=np.number).columns,\n",
    "                multi=False,\n",
    "                value= 'FEDERAL_REVENUE'\n",
    "            )\n",
    "        ], style={'width': '49%', 'display': 'inline-block','padding': '10px 5px'}),\n",
    "        \n",
    "        html.Div([\n",
    "            html.P('Y-axis'),\n",
    "            dcc.Dropdown(\n",
    "                id=\"yaxis\",\n",
    "                options=df.select_dtypes(include=np.number).columns,\n",
    "                multi=False,\n",
    "                value= 'STATE_REVENUE'\n",
    "            )\n",
    "        ], style={'width': '49%', 'display': 'inline-block','padding': '10px 5px'})\n",
    "    ], style={'padding': '10px 5px'}),\n",
    "    \n",
    "    html.Div([\n",
    "        dcc.Slider(\n",
    "            df['YEAR'].min(),\n",
    "            df['YEAR'].max(),\n",
    "            step=None,\n",
    "            id='year-slider',\n",
    "            value=df['YEAR'].max(),\n",
    "            marks={str(year): str(year) for year in df['YEAR'].unique()}\n",
    "        )\n",
    "    ], style={'padding' : '15px 15px'}),\n",
    "\n",
    "    html.Div([\n",
    "        dcc.Graph(id='scatter'\n",
    "                 ,hoverData={'points': [{'customdata': 'CALIFORNIA'}]})\n",
    "    ], style={'width': '49%', 'display': 'inline-block', 'padding': '0 20'}),\n",
    "    \n",
    "     html.Div([\n",
    "        dcc.Graph(id='x-time-series'),\n",
    "        dcc.Graph(id='y-time-series'),\n",
    "    ], style={'display': 'inline-block', 'width': '49%'}),\n",
    "    \n",
    "    html.H3(\"Variable Comparision Scatter Plot\"),\n",
    "    \n",
    "    html.Div([\n",
    "        html.Div([\n",
    "            html.P('X-axis'),\n",
    "            dcc.Dropdown(\n",
    "                id=\"xaxis2\",\n",
    "                options=df.select_dtypes(include=np.number).columns,\n",
    "                multi=False,\n",
    "                value= 'AVG_TOTAL_REVENUE_STUDENT'\n",
    "            ),\n",
    "            html.P('State'),\n",
    "            dcc.Dropdown(\n",
    "                id=\"state_filter\",\n",
    "                options=df['STATE'].unique(),\n",
    "                multi=True,\n",
    "                value= df['STATE'].unique()\n",
    "            )\n",
    "        ], style={'width': '49%', 'display': 'inline-block','padding': '10px 5px'}),\n",
    "        \n",
    "        html.Div([\n",
    "            html.P('Y-axis'),\n",
    "            dcc.Dropdown(\n",
    "                id=\"yaxis2\",\n",
    "                options=df.select_dtypes(include=np.number).columns,\n",
    "                multi=False,\n",
    "                value= 'AVG_MATH_4_SCORE'\n",
    "            ),\n",
    "            html.P('Correlation Filter'),\n",
    "            dcc.Dropdown(\n",
    "                id=\"correlation_filter\",\n",
    "                options=df.select_dtypes(include=np.number).columns,\n",
    "                multi=True,\n",
    "                value=['AVG_TOTAL_REVENUE_STUDENT', 'AVG_MATH_4_SCORE']\n",
    "            )\n",
    "        ], style={'width': '49%', 'display': 'inline-block','padding': '10px 5px'})\n",
    "    ], style={'padding': '10px 5px'}),\n",
    "\n",
    "    html.Div([\n",
    "        dcc.Graph(id='scatter2')\n",
    "    ], style={'width': '49%', 'display': 'inline-block', 'padding': '0 20'}),\n",
    "    \n",
    "    html.Div([\n",
    "        dcc.Graph(id='corrplot')\n",
    "    ], style={'width': '49%', 'display': 'inline-block', 'padding': '0 20'}),\n",
    "    \n",
    "    html.H3(\"State Comparision Line Plot\"),\n",
    "    \n",
    "    html.Div([\n",
    "        dcc.Graph(id='lineplot')\n",
    "    ], style={'width': '100%', 'display': 'inline-block', 'padding': '0 20'}),\n",
    "])"
   ]
  },
  {
   "cell_type": "markdown",
   "metadata": {},
   "source": [
    "## Callbacks"
   ]
  },
  {
   "cell_type": "code",
   "execution_count": 48,
   "metadata": {},
   "outputs": [],
   "source": [
    "@app.callback(\n",
    "    Output(component_id='scatter',component_property='figure'),\n",
    "    [Input(component_id='xaxis',component_property='value'),\n",
    "     Input(component_id='yaxis',component_property='value'),\n",
    "     Input(component_id='year-slider',component_property='value')]\n",
    ")\n",
    "def update_graph(xaxis, yaxis, year):\n",
    "\n",
    "    dff = df.copy()\n",
    "    \n",
    "    dff = dff[dff['YEAR'] == year]\n",
    "\n",
    "    # Plotly Express\n",
    "    fig = px.scatter(\n",
    "        dff, \n",
    "        x=xaxis,\n",
    "        y=yaxis,\n",
    "        opacity=0.8,\n",
    "        hover_name=dff['STATE']\n",
    "    )\n",
    "    \n",
    "    fig.update_traces(customdata=dff['STATE'])\n",
    "    \n",
    "    fig.update_layout(margin={'l': 40, 'b': 40, 't': 10, 'r': 0}, hovermode='closest')\n",
    "\n",
    "    return fig"
   ]
  },
  {
   "cell_type": "code",
   "execution_count": 49,
   "metadata": {},
   "outputs": [],
   "source": [
    "def time_series(dff, axis):\n",
    "\n",
    "    fig = px.scatter(dff, x='YEAR', y=axis)\n",
    "\n",
    "    fig.update_traces(mode='lines+markers')\n",
    "\n",
    "    fig.update_xaxes(showgrid=False)\n",
    "\n",
    "    #fig.update_yaxes(type='linear' if axis_type == 'Linear' else 'log')\n",
    "\n",
    "    fig.add_annotation(x=0, y=0.85, xanchor='left', yanchor='bottom',\n",
    "                       xref='paper', yref='paper', showarrow=False, align='left')\n",
    "#                        text=title)\n",
    "\n",
    "    fig.update_layout(height=225, margin={'l': 20, 'b': 30, 'r': 10, 't': 10})\n",
    "\n",
    "    return fig"
   ]
  },
  {
   "cell_type": "code",
   "execution_count": 50,
   "metadata": {},
   "outputs": [],
   "source": [
    "@app.callback(\n",
    "    Output('x-time-series', 'figure'),\n",
    "    Input('scatter', 'hoverData'),\n",
    "    Input('xaxis', 'value'))\n",
    "#    Input('crossfilter-xaxis-type', 'value'))\n",
    "def update_y_timeseries(hoverData, xaxis):\n",
    "    dff = df[df['STATE'] == hoverData['points'][0]['customdata']]\n",
    "    return time_series(dff, xaxis)\n",
    "\n",
    "\n",
    "@app.callback(\n",
    "    Output('y-time-series', 'figure'),\n",
    "    Input('scatter', 'hoverData'),\n",
    "    Input('yaxis', 'value'))\n",
    "#    Input('crossfilter-yaxis-type', 'value'))\n",
    "def update_x_timeseries(hoverData, yaxis):\n",
    "    dff = df[df['STATE'] == hoverData['points'][0]['customdata']]\n",
    "    return time_series(dff, yaxis)"
   ]
  },
  {
   "cell_type": "code",
   "execution_count": 51,
   "metadata": {},
   "outputs": [],
   "source": [
    "@app.callback(\n",
    "    Output(component_id='scatter2',component_property='figure'),\n",
    "    [Input(component_id='xaxis2',component_property='value'),\n",
    "     Input(component_id='yaxis2',component_property='value'),\n",
    "     Input(component_id='state_filter',component_property='value')]\n",
    ")\n",
    "def update_graph(xaxis2, yaxis2, state_filter):\n",
    "\n",
    "    dff = df.copy()\n",
    "    \n",
    "    dff = dff[dff['STATE'].isin(state_filter)]\n",
    "\n",
    "    # Plotly Express\n",
    "    fig = px.scatter(\n",
    "        dff, \n",
    "        x=xaxis2,\n",
    "        y=yaxis2,\n",
    "        opacity=0.8\n",
    "    )\n",
    "        \n",
    "\n",
    "    return fig"
   ]
  },
  {
   "cell_type": "code",
   "execution_count": 52,
   "metadata": {},
   "outputs": [],
   "source": [
    "@app.callback(\n",
    "    Output(component_id='corrplot',component_property='figure'),\n",
    "    Input(component_id='correlation_filter',component_property='value')\n",
    ")\n",
    "def create_corrplot(correlation_filter):\n",
    "\n",
    "    dff = df[correlation_filter]\n",
    "    df_corr = dff.corr()\n",
    "\n",
    "    x = list(df_corr.columns)\n",
    "    y = list(df_corr.index)\n",
    "    z = np.array(df_corr)\n",
    "\n",
    "    fig = ff.create_annotated_heatmap(\n",
    "        z,\n",
    "        x = x,\n",
    "        y = y ,\n",
    "        annotation_text = np.around(z, decimals=2),\n",
    "        hoverinfo='z',\n",
    "        colorscale='Viridis'\n",
    "    )\n",
    "        \n",
    "    return fig"
   ]
  },
  {
   "cell_type": "code",
   "execution_count": 53,
   "metadata": {},
   "outputs": [],
   "source": [
    "@app.callback(\n",
    "    Output(component_id='lineplot',component_property='figure'),\n",
    "    [Input(component_id='xaxis2',component_property='value'),\n",
    "     Input(component_id='state_filter',component_property='value')]\n",
    ")\n",
    "def create_lineplot(xaxis2, state_filter):\n",
    "\n",
    "    dff = df.copy()\n",
    "    \n",
    "    dff = dff[dff['STATE'].isin(state_filter)]\n",
    "\n",
    "    # Plotly Express\n",
    "    fig = px.line(\n",
    "        dff, \n",
    "        x='YEAR',\n",
    "        y=xaxis2,\n",
    "        color='STATE'\n",
    "    )\n",
    "        \n",
    "\n",
    "    return fig"
   ]
  },
  {
   "cell_type": "code",
   "execution_count": 54,
   "metadata": {},
   "outputs": [
    {
     "name": "stdout",
     "output_type": "stream",
     "text": [
      "Dash is running on http://127.0.0.1:8050/\n",
      "\n",
      "Dash is running on http://127.0.0.1:8050/\n",
      "\n",
      "Dash is running on http://127.0.0.1:8050/\n",
      "\n",
      "Dash is running on http://127.0.0.1:8050/\n",
      "\n",
      " * Serving Flask app '__main__' (lazy loading)\n",
      " * Environment: production\n",
      "\u001b[31m   WARNING: This is a development server. Do not use it in a production deployment.\u001b[0m\n",
      "\u001b[2m   Use a production WSGI server instead.\u001b[0m\n",
      " * Debug mode: on\n"
     ]
    }
   ],
   "source": [
    "if __name__ == '__main__':\n",
    "    app.run_server(debug=True, use_reloader=False)"
   ]
  },
  {
   "cell_type": "code",
   "execution_count": null,
   "metadata": {},
   "outputs": [],
   "source": []
  }
 ],
 "metadata": {
  "kernelspec": {
   "display_name": "Python 3",
   "language": "python",
   "name": "python3"
  },
  "language_info": {
   "codemirror_mode": {
    "name": "ipython",
    "version": 3
   },
   "file_extension": ".py",
   "mimetype": "text/x-python",
   "name": "python",
   "nbconvert_exporter": "python",
   "pygments_lexer": "ipython3",
   "version": "3.7.5"
  }
 },
 "nbformat": 4,
 "nbformat_minor": 2
}
